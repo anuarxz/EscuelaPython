{
 "cells": [
  {
   "cell_type": "markdown",
   "metadata": {},
   "source": [
    "\"\"\"\n",
    "EL FAMOSO \"FIZZ BUZZ”:\n",
    "Escribe un programa que muestre por consola (con un print) los\n",
    "números de 1 a 100 (ambos incluidos y con un salto de línea entre\n",
    "cada impresión), sustituyendo los siguientes:\n",
    "- Múltiplos de 3 por la palabra \"fizz\".\n",
    "- Múltiplos de 5 por la palabra \"buzz\".\n",
    "- Múltiplos de 3 y de 5 a la vez por la palabra \"fizzbuzz\".\n",
    "\"\"\""
   ]
  },
  {
   "cell_type": "code",
   "execution_count": 8,
   "metadata": {},
   "outputs": [],
   "source": [
    "def fizzbuzz():\n",
    "    for index in range(1,101):\n",
    "        if (index % 3 == 0) and (index % 5 == 0):\n",
    "            print('fizzbuzz')\n",
    "        elif (index % 3 == 0):\n",
    "            print('fizz')\n",
    "        elif (index % 5 == 0):\n",
    "            print('buzz')\n",
    "        else:\n",
    "            print(index)"
   ]
  },
  {
   "cell_type": "code",
   "execution_count": 9,
   "metadata": {},
   "outputs": [
    {
     "name": "stdout",
     "output_type": "stream",
     "text": [
      "1\n",
      "2\n",
      "fizz\n",
      "4\n",
      "buzz\n",
      "fizz\n",
      "7\n",
      "8\n",
      "fizz\n",
      "buzz\n",
      "11\n",
      "fizz\n",
      "13\n",
      "14\n",
      "fizzbuzz\n",
      "16\n",
      "17\n",
      "fizz\n",
      "19\n",
      "buzz\n",
      "fizz\n",
      "22\n",
      "23\n",
      "fizz\n",
      "buzz\n",
      "26\n",
      "fizz\n",
      "28\n",
      "29\n",
      "fizzbuzz\n",
      "31\n",
      "32\n",
      "fizz\n",
      "34\n",
      "buzz\n",
      "fizz\n",
      "37\n",
      "38\n",
      "fizz\n",
      "buzz\n",
      "41\n",
      "fizz\n",
      "43\n",
      "44\n",
      "fizzbuzz\n",
      "46\n",
      "47\n",
      "fizz\n",
      "49\n",
      "buzz\n",
      "fizz\n",
      "52\n",
      "53\n",
      "fizz\n",
      "buzz\n",
      "56\n",
      "fizz\n",
      "58\n",
      "59\n",
      "fizzbuzz\n",
      "61\n",
      "62\n",
      "fizz\n",
      "64\n",
      "buzz\n",
      "fizz\n",
      "67\n",
      "68\n",
      "fizz\n",
      "buzz\n",
      "71\n",
      "fizz\n",
      "73\n",
      "74\n",
      "fizzbuzz\n",
      "76\n",
      "77\n",
      "fizz\n",
      "79\n",
      "buzz\n",
      "fizz\n",
      "82\n",
      "83\n",
      "fizz\n",
      "buzz\n",
      "86\n",
      "fizz\n",
      "88\n",
      "89\n",
      "fizzbuzz\n",
      "91\n",
      "92\n",
      "fizz\n",
      "94\n",
      "buzz\n",
      "fizz\n",
      "97\n",
      "98\n",
      "fizz\n",
      "buzz\n"
     ]
    }
   ],
   "source": [
    "fizzbuzz()"
   ]
  },
  {
   "cell_type": "markdown",
   "metadata": {},
   "source": [
    "\"\"\"\n",
    "¿ES UN ANAGRAMA?\n",
    "Escribe una función que reciba dos palabras (String) y retorne\n",
    "verdadero o falso (Bool) según sean o no anagramas.\n",
    "- Un Anagrama consiste en formar una palabra reordenando TODAS\n",
    "  las letras de otra palabra inicial.\n",
    "- NO hace falta comprobar que ambas palabras existan.\n",
    "- Dos palabras exactamente iguales no son anagrama.\n",
    "\"\"\""
   ]
  },
  {
   "cell_type": "code",
   "execution_count": 24,
   "metadata": {},
   "outputs": [],
   "source": [
    "def is_anagram(first, second):\n",
    "    if first.lower() == second.lower():\n",
    "        return False\n",
    "    return sorted(first.lower()) == sorted(second.lower())"
   ]
  },
  {
   "cell_type": "code",
   "execution_count": 26,
   "metadata": {},
   "outputs": [
    {
     "data": {
      "text/plain": [
       "True"
      ]
     },
     "execution_count": 26,
     "metadata": {},
     "output_type": "execute_result"
    }
   ],
   "source": [
    "is_anagram('amor', 'Roma')"
   ]
  },
  {
   "cell_type": "markdown",
   "metadata": {},
   "source": [
    "\"\"\"\n",
    "LA SUCESIÓN DE FIBONACCI\n",
    "Escribe un programa que imprima los 50 primeros números de la sucesión\n",
    "de Fibonacci empezando en 0.\n",
    "- La serie Fibonacci se compone por una sucesión de números en\n",
    "  la que el siguiente siempre es la suma de los dos anteriores.\n",
    "  0, 1, 1, 2, 3, 5, 8, 13...\n",
    "\"\"\""
   ]
  },
  {
   "cell_type": "code",
   "execution_count": 29,
   "metadata": {},
   "outputs": [],
   "source": [
    "def fibonacci():\n",
    "    prev = 0\n",
    "    next = 1\n",
    "\n",
    "    for i in range(0,51):\n",
    "        print(prev)\n",
    "        fib = prev + next\n",
    "        prev = next\n",
    "        next = fib"
   ]
  },
  {
   "cell_type": "code",
   "execution_count": 57,
   "metadata": {},
   "outputs": [],
   "source": [
    "from functools import reduce\n",
    "\n",
    "def fibonacci_lambda(n):\n",
    "    fib_seq = [0,1]\n",
    "    # sum_func = lambda x, _: x + [x[-2]+x[-1]]\n",
    "    def sum(x, _):\n",
    "        print(x + [x[-2]+x[-1]])\n",
    "        return  x + [x[-2]+x[-1]]\n",
    "\n",
    "    # fib = reduce(sum_func, range(n-2), fib_seq)\n",
    "    fib = reduce(sum, range(n-2), fib_seq)\n",
    "    return fib"
   ]
  },
  {
   "cell_type": "code",
   "execution_count": 61,
   "metadata": {},
   "outputs": [
    {
     "name": "stdout",
     "output_type": "stream",
     "text": [
      "0\n",
      "1\n",
      "1\n",
      "2\n",
      "3\n",
      "5\n",
      "8\n",
      "13\n",
      "21\n",
      "34\n",
      "55\n",
      "89\n",
      "144\n",
      "233\n",
      "377\n",
      "610\n",
      "987\n",
      "1597\n",
      "2584\n",
      "4181\n",
      "6765\n",
      "10946\n",
      "17711\n",
      "28657\n",
      "46368\n",
      "75025\n",
      "121393\n",
      "196418\n",
      "317811\n",
      "514229\n",
      "832040\n",
      "1346269\n",
      "2178309\n",
      "3524578\n",
      "5702887\n",
      "9227465\n",
      "14930352\n",
      "24157817\n",
      "39088169\n",
      "63245986\n",
      "102334155\n",
      "165580141\n",
      "267914296\n",
      "433494437\n",
      "701408733\n",
      "1134903170\n",
      "1836311903\n",
      "2971215073\n",
      "4807526976\n",
      "7778742049\n",
      "12586269025\n"
     ]
    }
   ],
   "source": [
    "fibonacci()"
   ]
  },
  {
   "cell_type": "code",
   "execution_count": 62,
   "metadata": {},
   "outputs": [],
   "source": [
    "def fibonacci(n):\n",
    "  sec = [0, 1]\n",
    "  while len(sec) < n:\n",
    "    sec.append(sec[-1] + sec[-2])\n",
    "  return sec"
   ]
  },
  {
   "cell_type": "code",
   "execution_count": 63,
   "metadata": {},
   "outputs": [
    {
     "data": {
      "text/plain": [
       "[0, 1, 1, 2, 3, 5, 8, 13, 21, 34]"
      ]
     },
     "execution_count": 63,
     "metadata": {},
     "output_type": "execute_result"
    }
   ],
   "source": [
    "fibonacci(10)"
   ]
  },
  {
   "cell_type": "markdown",
   "metadata": {},
   "source": [
    "\"\"\"\n",
    "¿ES UN NÚMERO PRIMO?\n",
    "Escribe un programa que se encargue de comprobar si un número es o no primo.\n",
    "Hecho esto, imprime los números primos entre 1 y 100.\n",
    "\n",
    "el 1 y el 2 siempre son primos\n",
    "\"\"\""
   ]
  },
  {
   "cell_type": "code",
   "execution_count": 76,
   "metadata": {},
   "outputs": [],
   "source": [
    "def is_prime():\n",
    "    for number in range(1,101):\n",
    "        if number >= 2:\n",
    "            is_divisible = False\n",
    "            for index in range(2,number):\n",
    "                if number % index == 0:\n",
    "                    is_divisible = True\n",
    "                    break\n",
    "            if not is_divisible:\n",
    "                print(number)"
   ]
  },
  {
   "cell_type": "code",
   "execution_count": 77,
   "metadata": {},
   "outputs": [
    {
     "name": "stdout",
     "output_type": "stream",
     "text": [
      "2\n",
      "3\n",
      "5\n",
      "7\n",
      "11\n",
      "13\n",
      "17\n",
      "19\n",
      "23\n",
      "29\n",
      "31\n",
      "37\n",
      "41\n",
      "43\n",
      "47\n",
      "53\n",
      "59\n",
      "61\n",
      "67\n",
      "71\n",
      "73\n",
      "79\n",
      "83\n",
      "89\n",
      "97\n"
     ]
    }
   ],
   "source": [
    "is_prime()"
   ]
  },
  {
   "cell_type": "code",
   "execution_count": 8,
   "metadata": {},
   "outputs": [],
   "source": [
    "# Have you ever felt debugging involved a bit of luck? The following program has a bug. Try to identify the bug and fix it.\n",
    "\n",
    "def has_lucky_number(nums):\n",
    "    \"\"\"Return whether the given list of numbers is lucky. A lucky list contains\n",
    "    at least one number divisible by 7.\n",
    "    \"\"\"\n",
    "    for num in nums:\n",
    "        if num % 7 == 0:\n",
    "            return True\n",
    "    return False"
   ]
  },
  {
   "cell_type": "code",
   "execution_count": 9,
   "metadata": {},
   "outputs": [
    {
     "data": {
      "text/plain": [
       "True"
      ]
     },
     "execution_count": 9,
     "metadata": {},
     "output_type": "execute_result"
    }
   ],
   "source": [
    "has_lucky_number([1,3,14])"
   ]
  },
  {
   "cell_type": "markdown",
   "metadata": {},
   "source": [
    "R and Python have some libraries (like numpy and pandas) compare each element of the list to 2 (i.e. do an 'element-wise' comparison) and give us a list of booleans like `[False, False, True, True]`. \n",
    "\n",
    "Implement a function that reproduces this behaviour, returning a list of booleans corresponding to whether the corresponding element is greater than n."
   ]
  },
  {
   "cell_type": "code",
   "execution_count": 10,
   "metadata": {},
   "outputs": [],
   "source": [
    "def elementwise_greater_than(L, thresh):\n",
    "    \"\"\"Return a list with the same length as L, where the value at index i is \n",
    "    True if L[i] is greater than thresh, and False otherwise.\n",
    "    \n",
    "    >>> elementwise_greater_than([1, 2, 3, 4], 2)\n",
    "    [False, False, True, True]\n",
    "    \"\"\"\n",
    "    res = []\n",
    "    for i in L:\n",
    "        res.append(i > thresh)\n",
    "    return res"
   ]
  },
  {
   "cell_type": "code",
   "execution_count": 11,
   "metadata": {},
   "outputs": [
    {
     "data": {
      "text/plain": [
       "[False, False, True, True]"
      ]
     },
     "execution_count": 11,
     "metadata": {},
     "output_type": "execute_result"
    }
   ],
   "source": [
    "elementwise_greater_than([1, 2, 3, 4], 2)"
   ]
  },
  {
   "cell_type": "code",
   "execution_count": 12,
   "metadata": {},
   "outputs": [],
   "source": [
    "def elementwise_greater_than(L, thresh):\n",
    "    \"\"\"Return a list with the same length as L, where the value at index i is \n",
    "    True if L[i] is greater than thresh, and False otherwise.\n",
    "    \n",
    "    >>> elementwise_greater_than([1, 2, 3, 4], 2)\n",
    "    [False, False, True, True]\n",
    "    \"\"\"[i > thresh for i in L]\n",
    "    return "
   ]
  },
  {
   "cell_type": "code",
   "execution_count": 14,
   "metadata": {},
   "outputs": [
    {
     "data": {
      "text/plain": [
       "[False, False, True, True]"
      ]
     },
     "execution_count": 14,
     "metadata": {},
     "output_type": "execute_result"
    }
   ],
   "source": [
    "elementwise_greater_than([1, 2, 3, 4], 2)"
   ]
  },
  {
   "cell_type": "code",
   "execution_count": 15,
   "metadata": {},
   "outputs": [
    {
     "data": {
      "text/plain": [
       "[False, False, True, True]"
      ]
     },
     "execution_count": 15,
     "metadata": {},
     "output_type": "execute_result"
    }
   ],
   "source": [
    "thresh = 2\n",
    "L = [1, 2, 3, 4]\n",
    "res = [i > thresh for i in L]\n",
    "res"
   ]
  },
  {
   "cell_type": "markdown",
   "metadata": {},
   "source": [
    "## Calculadora Simple\n",
    "Escribe un programa que funcione como una calculadora simple. Debe pedir al usuario dos números y realizar operaciones básicas como suma, resta, multiplicación y división. El programa debe mostrar el resultado en pantalla."
   ]
  },
  {
   "cell_type": "code",
   "execution_count": 21,
   "metadata": {},
   "outputs": [],
   "source": [
    "def calculadora(first, second, operacion):\n",
    "    try:\n",
    "        num1 = float(first)\n",
    "        num2 = float(second)\n",
    "    except:\n",
    "        print('por favor, inserta dos numeros')\n",
    "\n",
    "    if operacion == '+' or operacion.lower() =='suma':\n",
    "        resultado = num1 + num2\n",
    "    elif operacion == '-' or operacion.lower() =='resta':\n",
    "        resultado = num1 - num2\n",
    "    elif operacion == '*' or operacion.lower() =='multiplicacion':\n",
    "        resultado = num1 * num2\n",
    "    elif operacion == '/' or operacion.lower() =='division':\n",
    "        try:\n",
    "            resultado = num1 / num2\n",
    "        except ZeroDivisionError:\n",
    "            print('no se puede dividir por 0')\n",
    "    else:\n",
    "        print('por favor, selecciona una operación entre sumar, restar, multiplicacion o division')\n",
    "\n",
    "    return resultado"
   ]
  },
  {
   "cell_type": "code",
   "execution_count": 23,
   "metadata": {},
   "outputs": [
    {
     "data": {
      "text/plain": [
       "0.2"
      ]
     },
     "execution_count": 23,
     "metadata": {},
     "output_type": "execute_result"
    }
   ],
   "source": [
    "calculadora('1',5, '/')"
   ]
  },
  {
   "cell_type": "code",
   "execution_count": 24,
   "metadata": {},
   "outputs": [],
   "source": [
    "def calculadora():\n",
    "    try:\n",
    "        num1 = float(input('Ingresa el primer número'))\n",
    "        num2 = float(input('Ingresa el segundo número'))\n",
    "    except:\n",
    "        print('por favor, inserta dos numeros')\n",
    "\n",
    "    operacion = input('Elige una operación (+ , -, *, /):')\n",
    "\n",
    "    if operacion == '+' or operacion.lower() =='suma':\n",
    "        resultado = num1 + num2\n",
    "    elif operacion == '-' or operacion.lower() =='resta':\n",
    "        resultado = num1 - num2\n",
    "    elif operacion == '*' or operacion.lower() =='multiplicacion':\n",
    "        resultado = num1 * num2\n",
    "    elif operacion == '/' or operacion.lower() =='division':\n",
    "        try:\n",
    "            resultado = num1 / num2\n",
    "        except ZeroDivisionError:\n",
    "            print('no se puede dividir por 0')\n",
    "    else:\n",
    "        print('por favor, selecciona una operación entre sumar, restar, multiplicacion o division')\n",
    "\n",
    "    return resultado"
   ]
  },
  {
   "cell_type": "code",
   "execution_count": 26,
   "metadata": {},
   "outputs": [
    {
     "data": {
      "text/plain": [
       "20.0"
      ]
     },
     "execution_count": 26,
     "metadata": {},
     "output_type": "execute_result"
    }
   ],
   "source": [
    "calculadora()"
   ]
  },
  {
   "cell_type": "markdown",
   "metadata": {},
   "source": [
    "Desarrolla un juego en el que el programa genera un número aleatorio y le pide al usuario que lo adivine. Proporciona pistas al usuario indicando si su conjetura es demasiado alta o demasiado baja. El juego debería continuar hasta que el usuario adivine correctamente."
   ]
  },
  {
   "cell_type": "code",
   "execution_count": 37,
   "metadata": {},
   "outputs": [],
   "source": [
    "import random\n",
    "def adivina_el_numero():\n",
    "    numero_aleatorio = random.randint(0,100)\n",
    "    # print(numero_aleatorio)\n",
    "    intento = 0\n",
    "    \n",
    "    while True:\n",
    "        conjetura = int(input('Adivina el numero entre el 1 y el 100'))\n",
    "        intento+=1\n",
    "\n",
    "        if conjetura == numero_aleatorio:\n",
    "            print(f'Felicidades, has adividinado en el {intento} intento')\n",
    "            break\n",
    "        elif conjetura < numero_aleatorio:\n",
    "            print('Demasiado bajo. Intenta de nuevo')\n",
    "        elif conjetura > numero_aleatorio:\n",
    "            print('Demasiado alto. Intenta de nuevo')"
   ]
  },
  {
   "cell_type": "code",
   "execution_count": 39,
   "metadata": {},
   "outputs": [
    {
     "name": "stdout",
     "output_type": "stream",
     "text": [
      "Demasiado alto. Intenta de nuevo\n",
      "Demasiado bajo. Intenta de nuevo\n",
      "Demasiado alto. Intenta de nuevo\n",
      "Demasiado alto. Intenta de nuevo\n",
      "Demasiado alto. Intenta de nuevo\n",
      "Demasiado alto. Intenta de nuevo\n",
      "Demasiado alto. Intenta de nuevo\n",
      "Felicidades, has adividinado en el 8 intento\n"
     ]
    }
   ],
   "source": [
    "adivina_el_numero()"
   ]
  },
  {
   "cell_type": "markdown",
   "metadata": {},
   "source": [
    "Crea una aplicación simple de lista de tareas. Permite al usuario agregar tareas, marcar tareas como completadas y eliminar tareas de la lista. Muestra la lista de tareas actualizada después de cada operación."
   ]
  },
  {
   "cell_type": "code",
   "execution_count": 43,
   "metadata": {},
   "outputs": [],
   "source": [
    "class ListaDeTareas:\n",
    "    def __init__(self):\n",
    "        self.tareas = []\n",
    "\n",
    "    def agregar_tarea(self, tarea):\n",
    "        self.tareas.append(tarea)\n",
    "        self.mostrar_tareas()\n",
    "\n",
    "    def marcar_completada(self, tarea):\n",
    "        print(f'Tarea {tarea} marcada como completada')\n",
    "        self.eliminar_tarea(tarea)\n",
    "        self.mostrar_tareas()\n",
    "\n",
    "    def eliminar_tarea(self, tarea):\n",
    "        if tarea in self.tareas:\n",
    "            self.tareas.remove(tarea)\n",
    "        else:\n",
    "            print(f'No se encontró la tarea {tarea} en la lista')\n",
    "\n",
    "    def mostrar_tareas(self):\n",
    "        print('Lista de tareas')\n",
    "        for tarea in self.tareas:\n",
    "            print(f' - {tarea}')"
   ]
  },
  {
   "cell_type": "code",
   "execution_count": 46,
   "metadata": {},
   "outputs": [
    {
     "name": "stdout",
     "output_type": "stream",
     "text": [
      "Lista de tareas\n",
      " - Hacer la compra\n",
      "Lista de tareas\n",
      " - Hacer la compra\n",
      " - Estudiar Python\n",
      "Tarea Hacer la compra marcada como completada\n",
      "Lista de tareas\n",
      " - Estudiar Python\n"
     ]
    }
   ],
   "source": [
    "lista = ListaDeTareas()\n",
    "lista.agregar_tarea('Hacer la compra')\n",
    "lista.agregar_tarea('Estudiar Python')\n",
    "lista.marcar_completada('Hacer la compra')"
   ]
  },
  {
   "cell_type": "code",
   "execution_count": null,
   "metadata": {},
   "outputs": [],
   "source": [
    "[13:49] Juan Manuel Parrado (Invitado)\n",
    "\"\"\"\n",
    "Crea una aplicación simple de lista de tareas. Permite al usuario\n",
    "agregar tareas, marcar tareas como completadas y eliminar tareas de la lista.\n",
    "Muestra la lista de tareas actualizada después de cada operación.\n",
    "\"\"\"\n",
    " \n",
    "class Tarea:\n",
    "    def __init__(self, nombre):\n",
    "        self.nombre = nombre\n",
    "        self.completada = False\n",
    " \n",
    "class ListaTareas:\n",
    "    def __init__(self):\n",
    "        self.tareas = []\n",
    " \n",
    "    def mostrar_tareas(self):\n",
    "        print(\"Tareas:\")\n",
    "        for tarea in self.tareas:\n",
    "            completada = \"completada\" if tarea.completada else \"incompleta\"\n",
    "            print(f\"{tarea.nombre} ({completada})\")\n",
    " \n",
    "    def agregar_tarea(self, nombre):\n",
    "        tarea = Tarea(nombre)\n",
    "        self.tareas.append(tarea)\n",
    "        self.mostrar_tareas()\n",
    "    def marcar_completada(self, nombre):\n",
    "        for tarea in self.tareas:\n",
    "            if tarea.nombre == nombre:\n",
    "                tarea.completada = True\n",
    "        self.mostrar_tareas()\n",
    " \n",
    "    def eliminar_tarea(self, nombre):\n",
    "        for tarea in self.tareas:\n",
    "            if tarea.nombre == nombre:\n",
    "                self.tareas.remove(tarea)\n",
    "        self.mostrar_tareas()\n",
    " \n",
    " \n",
    "lista = ListaTareas()\n",
    "lista.agregar_tarea(\"Aprender Python\")\n",
    "lista.agregar_tarea(\"Cocinar\")\n",
    "lista.agregar_tarea(\"Entrenar\")\n",
    " \n",
    "lista.marcar_completada(\"Aprender Python\")\n",
    "lista.eliminar_tarea(\"Hacer ejercicio\")\n",
    " "
   ]
  },
  {
   "cell_type": "code",
   "execution_count": null,
   "metadata": {},
   "outputs": [],
   "source": [
    "[13:51] Ruben Vazquez Castillo (Invitado)\n",
    "class Task:\n",
    "  def __init__(self, text, state):\n",
    "    self.text = text\n",
    "    self.state = state\n",
    " \n",
    " \n",
    "def to_do_list():\n",
    "  operation = 0\n",
    "  lista = []\n",
    "  while True:\n",
    "    while not isinstance(operation, int) or (operation < 1 or operation > 4):\n",
    "          try:\n",
    "              operation = int(input(\"1. Añadir tarea\\n2. Modificar tarea\\n3. Borrar tarea\\n4. Salir\\n\"))\n",
    "          except ValueError:\n",
    "              print(\"Por favor, ingresa un número válido entre 1 y 4.\")\n",
    "         \n",
    "    if operation == 1:\n",
    "        text = input('Tarea:\\n')\n",
    "        state = input('Realizada:(y/n)\\n')\n",
    "        tarea = Task(text, state)\n",
    "        lista.append(tarea)\n",
    "    elif operation == 2:\n",
    "      try:\n",
    "        pos = int(input('Numero de la tarea a cambiar\\n'))\n",
    "        new_state = input('Realizada:(y/n)\\n')\n",
    "        lista[pos].state = new_state\n",
    "      except IndexError:\n",
    "        print('Esa tarea no existe')\n",
    "    elif operation == 3:\n",
    "        try:\n",
    "          pos = int(input('Numero de la tarea a borrar\\n'))\n",
    "          del lista[pos]\n",
    "        except IndexError:\n",
    "          print('Esa tarea no existe')\n",
    "    elif operation == 4:\n",
    "      break;\n",
    " \n",
    "    for i in range(0, len(lista)):\n",
    "      print(f'{i}: Tarea: {lista[i].text},  Completada: {lista[i].state}')\n",
    " \n",
    "    operation = 0"
   ]
  }
 ],
 "metadata": {
  "kernelspec": {
   "display_name": "Python 3",
   "language": "python",
   "name": "python3"
  },
  "language_info": {
   "codemirror_mode": {
    "name": "ipython",
    "version": 3
   },
   "file_extension": ".py",
   "mimetype": "text/x-python",
   "name": "python",
   "nbconvert_exporter": "python",
   "pygments_lexer": "ipython3",
   "version": "3.9.4"
  }
 },
 "nbformat": 4,
 "nbformat_minor": 2
}
